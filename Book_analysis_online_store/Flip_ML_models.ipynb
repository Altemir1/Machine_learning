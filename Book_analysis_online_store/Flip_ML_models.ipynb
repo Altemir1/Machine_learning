{
  "nbformat": 4,
  "nbformat_minor": 0,
  "metadata": {
    "colab": {
      "provenance": []
    },
    "kernelspec": {
      "name": "python3",
      "display_name": "Python 3"
    },
    "language_info": {
      "name": "python"
    }
  },
  "cells": [
    {
      "cell_type": "markdown",
      "source": [
        "#Data preprocessing\n"
      ],
      "metadata": {
        "id": "SJ2AQ47oHW_G"
      }
    },
    {
      "cell_type": "code",
      "source": [
        "import pandas as pd\n",
        "\n",
        "df = pd.read_csv(\"flip_book_cleaned.csv\")\n",
        "\n",
        "df.drop(\"Unnamed: 0\", axis=1, inplace=True)\n",
        "\n",
        "df.info()"
      ],
      "metadata": {
        "colab": {
          "base_uri": "https://localhost:8080/"
        },
        "id": "cckCViP4HdXS",
        "outputId": "db510ba0-8cc6-445d-cdd8-f7ba2bb7e953"
      },
      "execution_count": null,
      "outputs": [
        {
          "output_type": "stream",
          "name": "stdout",
          "text": [
            "<class 'pandas.core.frame.DataFrame'>\n",
            "RangeIndex: 2994 entries, 0 to 2993\n",
            "Data columns (total 14 columns):\n",
            " #   Column            Non-Null Count  Dtype  \n",
            "---  ------            --------------  -----  \n",
            " 0   title             2994 non-null   object \n",
            " 1   rating            2994 non-null   float64\n",
            " 2   review_count      2994 non-null   float64\n",
            " 3   price             2994 non-null   int64  \n",
            " 4   publishing_house  2994 non-null   object \n",
            " 5   binding           2994 non-null   object \n",
            " 6   number_of_pages   2994 non-null   float64\n",
            " 7   paper_type        2994 non-null   object \n",
            " 8   language          2994 non-null   object \n",
            " 9   release_date      2994 non-null   float64\n",
            " 10  height            2994 non-null   float64\n",
            " 11  width             2994 non-null   float64\n",
            " 12  illustrated       2994 non-null   object \n",
            " 13  thickness         2994 non-null   float64\n",
            "dtypes: float64(7), int64(1), object(6)\n",
            "memory usage: 327.6+ KB\n"
          ]
        }
      ]
    },
    {
      "cell_type": "code",
      "source": [
        "from sklearn.preprocessing import LabelEncoder\n",
        "\n",
        "object_columns = df.select_dtypes(include=['object']).columns\n",
        "\n",
        "label_encoder = LabelEncoder()\n",
        "\n",
        "df[object_columns] = df[object_columns].apply(label_encoder.fit_transform)\n"
      ],
      "metadata": {
        "id": "H0xYveWmHxHQ"
      },
      "execution_count": null,
      "outputs": []
    },
    {
      "cell_type": "code",
      "source": [
        "df"
      ],
      "metadata": {
        "colab": {
          "base_uri": "https://localhost:8080/",
          "height": 444
        },
        "id": "Z6sSG9KJLyli",
        "outputId": "0bfe5209-c6e9-4fd5-cd64-62b42a327059"
      },
      "execution_count": null,
      "outputs": [
        {
          "output_type": "execute_result",
          "data": {
            "text/plain": [
              "      title  rating  review_count  price  publishing_house  binding  \\\n",
              "0      2162     5.0           2.0   2841               135        4   \n",
              "1      2005     5.0          19.0   2639               167        4   \n",
              "2      2473     5.0         102.0   4135               167        4   \n",
              "3        51     4.7          64.0   1990               130        1   \n",
              "4      2002     4.8          91.0   2080               167        4   \n",
              "...     ...     ...           ...    ...               ...      ...   \n",
              "2989    256     4.8           9.0   2564                37        4   \n",
              "2990   2377     5.0           7.0   3217               167        4   \n",
              "2991     25     5.0          13.0    940               167        4   \n",
              "2992   1137     5.0           2.0   5033                40        4   \n",
              "2993   1713     5.0           3.0   2469                37        4   \n",
              "\n",
              "      number_of_pages  paper_type  language  release_date      height  \\\n",
              "0               304.0           5         5   2022.000000  215.000000   \n",
              "1                80.0           5         5   2010.000000  263.000000   \n",
              "2               912.0           5         5   2017.000000  219.000000   \n",
              "3               304.0           5         5   2023.000000  180.000000   \n",
              "4               272.0           5         5   2016.000000  208.496604   \n",
              "...               ...         ...       ...           ...         ...   \n",
              "2989            208.0           6         5   2022.000000  224.000000   \n",
              "2990            384.0           5         5   1973.184035  205.000000   \n",
              "2991            416.0           1         5   2022.000000  209.000000   \n",
              "2992            896.0           5         5   2021.000000  210.000000   \n",
              "2993            640.0           5         5   2022.000000  185.000000   \n",
              "\n",
              "          width  illustrated  thickness  \n",
              "0     140.00000            1  22.596082  \n",
              "1     202.00000            1  12.000000  \n",
              "2     145.00000            1  40.000000  \n",
              "3     115.00000            1  13.000000  \n",
              "4     144.30631            1  22.596082  \n",
              "...         ...          ...        ...  \n",
              "2989  148.00000            1  16.000000  \n",
              "2990  130.00000            1  25.000000  \n",
              "2991  135.00000            1  22.000000  \n",
              "2992  140.00000            1  40.000000  \n",
              "2993  120.00000            1  42.000000  \n",
              "\n",
              "[2994 rows x 14 columns]"
            ],
            "text/html": [
              "\n",
              "  <div id=\"df-571400e8-b379-44cf-bf7b-7ddc9cfeb472\" class=\"colab-df-container\">\n",
              "    <div>\n",
              "<style scoped>\n",
              "    .dataframe tbody tr th:only-of-type {\n",
              "        vertical-align: middle;\n",
              "    }\n",
              "\n",
              "    .dataframe tbody tr th {\n",
              "        vertical-align: top;\n",
              "    }\n",
              "\n",
              "    .dataframe thead th {\n",
              "        text-align: right;\n",
              "    }\n",
              "</style>\n",
              "<table border=\"1\" class=\"dataframe\">\n",
              "  <thead>\n",
              "    <tr style=\"text-align: right;\">\n",
              "      <th></th>\n",
              "      <th>title</th>\n",
              "      <th>rating</th>\n",
              "      <th>review_count</th>\n",
              "      <th>price</th>\n",
              "      <th>publishing_house</th>\n",
              "      <th>binding</th>\n",
              "      <th>number_of_pages</th>\n",
              "      <th>paper_type</th>\n",
              "      <th>language</th>\n",
              "      <th>release_date</th>\n",
              "      <th>height</th>\n",
              "      <th>width</th>\n",
              "      <th>illustrated</th>\n",
              "      <th>thickness</th>\n",
              "    </tr>\n",
              "  </thead>\n",
              "  <tbody>\n",
              "    <tr>\n",
              "      <th>0</th>\n",
              "      <td>2162</td>\n",
              "      <td>5.0</td>\n",
              "      <td>2.0</td>\n",
              "      <td>2841</td>\n",
              "      <td>135</td>\n",
              "      <td>4</td>\n",
              "      <td>304.0</td>\n",
              "      <td>5</td>\n",
              "      <td>5</td>\n",
              "      <td>2022.000000</td>\n",
              "      <td>215.000000</td>\n",
              "      <td>140.00000</td>\n",
              "      <td>1</td>\n",
              "      <td>22.596082</td>\n",
              "    </tr>\n",
              "    <tr>\n",
              "      <th>1</th>\n",
              "      <td>2005</td>\n",
              "      <td>5.0</td>\n",
              "      <td>19.0</td>\n",
              "      <td>2639</td>\n",
              "      <td>167</td>\n",
              "      <td>4</td>\n",
              "      <td>80.0</td>\n",
              "      <td>5</td>\n",
              "      <td>5</td>\n",
              "      <td>2010.000000</td>\n",
              "      <td>263.000000</td>\n",
              "      <td>202.00000</td>\n",
              "      <td>1</td>\n",
              "      <td>12.000000</td>\n",
              "    </tr>\n",
              "    <tr>\n",
              "      <th>2</th>\n",
              "      <td>2473</td>\n",
              "      <td>5.0</td>\n",
              "      <td>102.0</td>\n",
              "      <td>4135</td>\n",
              "      <td>167</td>\n",
              "      <td>4</td>\n",
              "      <td>912.0</td>\n",
              "      <td>5</td>\n",
              "      <td>5</td>\n",
              "      <td>2017.000000</td>\n",
              "      <td>219.000000</td>\n",
              "      <td>145.00000</td>\n",
              "      <td>1</td>\n",
              "      <td>40.000000</td>\n",
              "    </tr>\n",
              "    <tr>\n",
              "      <th>3</th>\n",
              "      <td>51</td>\n",
              "      <td>4.7</td>\n",
              "      <td>64.0</td>\n",
              "      <td>1990</td>\n",
              "      <td>130</td>\n",
              "      <td>1</td>\n",
              "      <td>304.0</td>\n",
              "      <td>5</td>\n",
              "      <td>5</td>\n",
              "      <td>2023.000000</td>\n",
              "      <td>180.000000</td>\n",
              "      <td>115.00000</td>\n",
              "      <td>1</td>\n",
              "      <td>13.000000</td>\n",
              "    </tr>\n",
              "    <tr>\n",
              "      <th>4</th>\n",
              "      <td>2002</td>\n",
              "      <td>4.8</td>\n",
              "      <td>91.0</td>\n",
              "      <td>2080</td>\n",
              "      <td>167</td>\n",
              "      <td>4</td>\n",
              "      <td>272.0</td>\n",
              "      <td>5</td>\n",
              "      <td>5</td>\n",
              "      <td>2016.000000</td>\n",
              "      <td>208.496604</td>\n",
              "      <td>144.30631</td>\n",
              "      <td>1</td>\n",
              "      <td>22.596082</td>\n",
              "    </tr>\n",
              "    <tr>\n",
              "      <th>...</th>\n",
              "      <td>...</td>\n",
              "      <td>...</td>\n",
              "      <td>...</td>\n",
              "      <td>...</td>\n",
              "      <td>...</td>\n",
              "      <td>...</td>\n",
              "      <td>...</td>\n",
              "      <td>...</td>\n",
              "      <td>...</td>\n",
              "      <td>...</td>\n",
              "      <td>...</td>\n",
              "      <td>...</td>\n",
              "      <td>...</td>\n",
              "      <td>...</td>\n",
              "    </tr>\n",
              "    <tr>\n",
              "      <th>2989</th>\n",
              "      <td>256</td>\n",
              "      <td>4.8</td>\n",
              "      <td>9.0</td>\n",
              "      <td>2564</td>\n",
              "      <td>37</td>\n",
              "      <td>4</td>\n",
              "      <td>208.0</td>\n",
              "      <td>6</td>\n",
              "      <td>5</td>\n",
              "      <td>2022.000000</td>\n",
              "      <td>224.000000</td>\n",
              "      <td>148.00000</td>\n",
              "      <td>1</td>\n",
              "      <td>16.000000</td>\n",
              "    </tr>\n",
              "    <tr>\n",
              "      <th>2990</th>\n",
              "      <td>2377</td>\n",
              "      <td>5.0</td>\n",
              "      <td>7.0</td>\n",
              "      <td>3217</td>\n",
              "      <td>167</td>\n",
              "      <td>4</td>\n",
              "      <td>384.0</td>\n",
              "      <td>5</td>\n",
              "      <td>5</td>\n",
              "      <td>1973.184035</td>\n",
              "      <td>205.000000</td>\n",
              "      <td>130.00000</td>\n",
              "      <td>1</td>\n",
              "      <td>25.000000</td>\n",
              "    </tr>\n",
              "    <tr>\n",
              "      <th>2991</th>\n",
              "      <td>25</td>\n",
              "      <td>5.0</td>\n",
              "      <td>13.0</td>\n",
              "      <td>940</td>\n",
              "      <td>167</td>\n",
              "      <td>4</td>\n",
              "      <td>416.0</td>\n",
              "      <td>1</td>\n",
              "      <td>5</td>\n",
              "      <td>2022.000000</td>\n",
              "      <td>209.000000</td>\n",
              "      <td>135.00000</td>\n",
              "      <td>1</td>\n",
              "      <td>22.000000</td>\n",
              "    </tr>\n",
              "    <tr>\n",
              "      <th>2992</th>\n",
              "      <td>1137</td>\n",
              "      <td>5.0</td>\n",
              "      <td>2.0</td>\n",
              "      <td>5033</td>\n",
              "      <td>40</td>\n",
              "      <td>4</td>\n",
              "      <td>896.0</td>\n",
              "      <td>5</td>\n",
              "      <td>5</td>\n",
              "      <td>2021.000000</td>\n",
              "      <td>210.000000</td>\n",
              "      <td>140.00000</td>\n",
              "      <td>1</td>\n",
              "      <td>40.000000</td>\n",
              "    </tr>\n",
              "    <tr>\n",
              "      <th>2993</th>\n",
              "      <td>1713</td>\n",
              "      <td>5.0</td>\n",
              "      <td>3.0</td>\n",
              "      <td>2469</td>\n",
              "      <td>37</td>\n",
              "      <td>4</td>\n",
              "      <td>640.0</td>\n",
              "      <td>5</td>\n",
              "      <td>5</td>\n",
              "      <td>2022.000000</td>\n",
              "      <td>185.000000</td>\n",
              "      <td>120.00000</td>\n",
              "      <td>1</td>\n",
              "      <td>42.000000</td>\n",
              "    </tr>\n",
              "  </tbody>\n",
              "</table>\n",
              "<p>2994 rows × 14 columns</p>\n",
              "</div>\n",
              "    <div class=\"colab-df-buttons\">\n",
              "\n",
              "  <div class=\"colab-df-container\">\n",
              "    <button class=\"colab-df-convert\" onclick=\"convertToInteractive('df-571400e8-b379-44cf-bf7b-7ddc9cfeb472')\"\n",
              "            title=\"Convert this dataframe to an interactive table.\"\n",
              "            style=\"display:none;\">\n",
              "\n",
              "  <svg xmlns=\"http://www.w3.org/2000/svg\" height=\"24px\" viewBox=\"0 -960 960 960\">\n",
              "    <path d=\"M120-120v-720h720v720H120Zm60-500h600v-160H180v160Zm220 220h160v-160H400v160Zm0 220h160v-160H400v160ZM180-400h160v-160H180v160Zm440 0h160v-160H620v160ZM180-180h160v-160H180v160Zm440 0h160v-160H620v160Z\"/>\n",
              "  </svg>\n",
              "    </button>\n",
              "\n",
              "  <style>\n",
              "    .colab-df-container {\n",
              "      display:flex;\n",
              "      gap: 12px;\n",
              "    }\n",
              "\n",
              "    .colab-df-convert {\n",
              "      background-color: #E8F0FE;\n",
              "      border: none;\n",
              "      border-radius: 50%;\n",
              "      cursor: pointer;\n",
              "      display: none;\n",
              "      fill: #1967D2;\n",
              "      height: 32px;\n",
              "      padding: 0 0 0 0;\n",
              "      width: 32px;\n",
              "    }\n",
              "\n",
              "    .colab-df-convert:hover {\n",
              "      background-color: #E2EBFA;\n",
              "      box-shadow: 0px 1px 2px rgba(60, 64, 67, 0.3), 0px 1px 3px 1px rgba(60, 64, 67, 0.15);\n",
              "      fill: #174EA6;\n",
              "    }\n",
              "\n",
              "    .colab-df-buttons div {\n",
              "      margin-bottom: 4px;\n",
              "    }\n",
              "\n",
              "    [theme=dark] .colab-df-convert {\n",
              "      background-color: #3B4455;\n",
              "      fill: #D2E3FC;\n",
              "    }\n",
              "\n",
              "    [theme=dark] .colab-df-convert:hover {\n",
              "      background-color: #434B5C;\n",
              "      box-shadow: 0px 1px 3px 1px rgba(0, 0, 0, 0.15);\n",
              "      filter: drop-shadow(0px 1px 2px rgba(0, 0, 0, 0.3));\n",
              "      fill: #FFFFFF;\n",
              "    }\n",
              "  </style>\n",
              "\n",
              "    <script>\n",
              "      const buttonEl =\n",
              "        document.querySelector('#df-571400e8-b379-44cf-bf7b-7ddc9cfeb472 button.colab-df-convert');\n",
              "      buttonEl.style.display =\n",
              "        google.colab.kernel.accessAllowed ? 'block' : 'none';\n",
              "\n",
              "      async function convertToInteractive(key) {\n",
              "        const element = document.querySelector('#df-571400e8-b379-44cf-bf7b-7ddc9cfeb472');\n",
              "        const dataTable =\n",
              "          await google.colab.kernel.invokeFunction('convertToInteractive',\n",
              "                                                    [key], {});\n",
              "        if (!dataTable) return;\n",
              "\n",
              "        const docLinkHtml = 'Like what you see? Visit the ' +\n",
              "          '<a target=\"_blank\" href=https://colab.research.google.com/notebooks/data_table.ipynb>data table notebook</a>'\n",
              "          + ' to learn more about interactive tables.';\n",
              "        element.innerHTML = '';\n",
              "        dataTable['output_type'] = 'display_data';\n",
              "        await google.colab.output.renderOutput(dataTable, element);\n",
              "        const docLink = document.createElement('div');\n",
              "        docLink.innerHTML = docLinkHtml;\n",
              "        element.appendChild(docLink);\n",
              "      }\n",
              "    </script>\n",
              "  </div>\n",
              "\n",
              "\n",
              "<div id=\"df-fa51ab0d-078d-4b16-839e-e2e85c9f1521\">\n",
              "  <button class=\"colab-df-quickchart\" onclick=\"quickchart('df-fa51ab0d-078d-4b16-839e-e2e85c9f1521')\"\n",
              "            title=\"Suggest charts\"\n",
              "            style=\"display:none;\">\n",
              "\n",
              "<svg xmlns=\"http://www.w3.org/2000/svg\" height=\"24px\"viewBox=\"0 0 24 24\"\n",
              "     width=\"24px\">\n",
              "    <g>\n",
              "        <path d=\"M19 3H5c-1.1 0-2 .9-2 2v14c0 1.1.9 2 2 2h14c1.1 0 2-.9 2-2V5c0-1.1-.9-2-2-2zM9 17H7v-7h2v7zm4 0h-2V7h2v10zm4 0h-2v-4h2v4z\"/>\n",
              "    </g>\n",
              "</svg>\n",
              "  </button>\n",
              "\n",
              "<style>\n",
              "  .colab-df-quickchart {\n",
              "      --bg-color: #E8F0FE;\n",
              "      --fill-color: #1967D2;\n",
              "      --hover-bg-color: #E2EBFA;\n",
              "      --hover-fill-color: #174EA6;\n",
              "      --disabled-fill-color: #AAA;\n",
              "      --disabled-bg-color: #DDD;\n",
              "  }\n",
              "\n",
              "  [theme=dark] .colab-df-quickchart {\n",
              "      --bg-color: #3B4455;\n",
              "      --fill-color: #D2E3FC;\n",
              "      --hover-bg-color: #434B5C;\n",
              "      --hover-fill-color: #FFFFFF;\n",
              "      --disabled-bg-color: #3B4455;\n",
              "      --disabled-fill-color: #666;\n",
              "  }\n",
              "\n",
              "  .colab-df-quickchart {\n",
              "    background-color: var(--bg-color);\n",
              "    border: none;\n",
              "    border-radius: 50%;\n",
              "    cursor: pointer;\n",
              "    display: none;\n",
              "    fill: var(--fill-color);\n",
              "    height: 32px;\n",
              "    padding: 0;\n",
              "    width: 32px;\n",
              "  }\n",
              "\n",
              "  .colab-df-quickchart:hover {\n",
              "    background-color: var(--hover-bg-color);\n",
              "    box-shadow: 0 1px 2px rgba(60, 64, 67, 0.3), 0 1px 3px 1px rgba(60, 64, 67, 0.15);\n",
              "    fill: var(--button-hover-fill-color);\n",
              "  }\n",
              "\n",
              "  .colab-df-quickchart-complete:disabled,\n",
              "  .colab-df-quickchart-complete:disabled:hover {\n",
              "    background-color: var(--disabled-bg-color);\n",
              "    fill: var(--disabled-fill-color);\n",
              "    box-shadow: none;\n",
              "  }\n",
              "\n",
              "  .colab-df-spinner {\n",
              "    border: 2px solid var(--fill-color);\n",
              "    border-color: transparent;\n",
              "    border-bottom-color: var(--fill-color);\n",
              "    animation:\n",
              "      spin 1s steps(1) infinite;\n",
              "  }\n",
              "\n",
              "  @keyframes spin {\n",
              "    0% {\n",
              "      border-color: transparent;\n",
              "      border-bottom-color: var(--fill-color);\n",
              "      border-left-color: var(--fill-color);\n",
              "    }\n",
              "    20% {\n",
              "      border-color: transparent;\n",
              "      border-left-color: var(--fill-color);\n",
              "      border-top-color: var(--fill-color);\n",
              "    }\n",
              "    30% {\n",
              "      border-color: transparent;\n",
              "      border-left-color: var(--fill-color);\n",
              "      border-top-color: var(--fill-color);\n",
              "      border-right-color: var(--fill-color);\n",
              "    }\n",
              "    40% {\n",
              "      border-color: transparent;\n",
              "      border-right-color: var(--fill-color);\n",
              "      border-top-color: var(--fill-color);\n",
              "    }\n",
              "    60% {\n",
              "      border-color: transparent;\n",
              "      border-right-color: var(--fill-color);\n",
              "    }\n",
              "    80% {\n",
              "      border-color: transparent;\n",
              "      border-right-color: var(--fill-color);\n",
              "      border-bottom-color: var(--fill-color);\n",
              "    }\n",
              "    90% {\n",
              "      border-color: transparent;\n",
              "      border-bottom-color: var(--fill-color);\n",
              "    }\n",
              "  }\n",
              "</style>\n",
              "\n",
              "  <script>\n",
              "    async function quickchart(key) {\n",
              "      const quickchartButtonEl =\n",
              "        document.querySelector('#' + key + ' button');\n",
              "      quickchartButtonEl.disabled = true;  // To prevent multiple clicks.\n",
              "      quickchartButtonEl.classList.add('colab-df-spinner');\n",
              "      try {\n",
              "        const charts = await google.colab.kernel.invokeFunction(\n",
              "            'suggestCharts', [key], {});\n",
              "      } catch (error) {\n",
              "        console.error('Error during call to suggestCharts:', error);\n",
              "      }\n",
              "      quickchartButtonEl.classList.remove('colab-df-spinner');\n",
              "      quickchartButtonEl.classList.add('colab-df-quickchart-complete');\n",
              "    }\n",
              "    (() => {\n",
              "      let quickchartButtonEl =\n",
              "        document.querySelector('#df-fa51ab0d-078d-4b16-839e-e2e85c9f1521 button');\n",
              "      quickchartButtonEl.style.display =\n",
              "        google.colab.kernel.accessAllowed ? 'block' : 'none';\n",
              "    })();\n",
              "  </script>\n",
              "</div>\n",
              "    </div>\n",
              "  </div>\n"
            ]
          },
          "metadata": {},
          "execution_count": 29
        }
      ]
    },
    {
      "cell_type": "markdown",
      "source": [
        "#Regression models\n"
      ],
      "metadata": {
        "id": "1YLnrw6uHHcU"
      }
    },
    {
      "cell_type": "markdown",
      "source": [
        "Linear regression"
      ],
      "metadata": {
        "id": "yIM2LP1rH74W"
      }
    },
    {
      "cell_type": "code",
      "execution_count": null,
      "metadata": {
        "colab": {
          "base_uri": "https://localhost:8080/"
        },
        "id": "0msHkzY1G_eW",
        "outputId": "8dec2d24-9ea8-41f4-bdc5-2ff06c5cc8f1"
      },
      "outputs": [
        {
          "output_type": "stream",
          "name": "stdout",
          "text": [
            "R^2 score for Linear Regression: 0.5403032836949089\n"
          ]
        }
      ],
      "source": [
        "import pandas as pd\n",
        "from sklearn.model_selection import train_test_split\n",
        "from sklearn.linear_model import LinearRegression\n",
        "from sklearn.metrics import r2_score\n",
        "from sklearn.preprocessing import StandardScaler\n",
        "\n",
        "X = df.drop(\"price\", axis=1 )\n",
        "y = df['price']\n",
        "\n",
        "\n",
        "X_train, X_test, y_train, y_test = train_test_split(X, y, test_size=0.2, random_state=42)\n",
        "\n",
        "model_linear = LinearRegression()\n",
        "model_linear.fit(X_train, y_train)\n",
        "\n",
        "y_pred_linear = model_linear.predict(X_test)\n",
        "\n",
        "r2_linear = r2_score(y_test, y_pred_linear)\n",
        "\n",
        "print(f\"R^2 score for Linear Regression: {r2_linear}\")\n"
      ]
    },
    {
      "cell_type": "markdown",
      "source": [
        "Random forest regression"
      ],
      "metadata": {
        "id": "4JbvxV_6IloS"
      }
    },
    {
      "cell_type": "code",
      "source": [
        "from sklearn.ensemble import RandomForestRegressor\n",
        "\n",
        "model_rf = RandomForestRegressor(random_state=42)\n",
        "model_rf.fit(X_train, y_train)\n",
        "\n",
        "y_pred_rf = model_rf.predict(X_test)\n",
        "\n",
        "r2_rf = r2_score(y_test, y_pred_rf)\n",
        "\n",
        "print(f\"R^2 score for Random Forest Regression: {r2_rf}\")"
      ],
      "metadata": {
        "colab": {
          "base_uri": "https://localhost:8080/"
        },
        "id": "B8ykiy5fIsEq",
        "outputId": "5684a177-c0be-4274-c4c6-5ecd3e026a76"
      },
      "execution_count": null,
      "outputs": [
        {
          "output_type": "stream",
          "name": "stdout",
          "text": [
            "R^2 score for Random Forest Regression: 0.49603191715812944\n"
          ]
        }
      ]
    },
    {
      "cell_type": "markdown",
      "source": [
        "Price prediction example"
      ],
      "metadata": {
        "id": "Odw-glgILh4_"
      }
    },
    {
      "cell_type": "code",
      "source": [
        "single_row_data = {\n",
        "    'title': 200,\n",
        "    'rating': 4.3,\n",
        "    'review_count': 120,\n",
        "    'publishing_house': 2,\n",
        "    'binding': 2,\n",
        "    'number_of_pages': 250,\n",
        "    'paper_type': 1,\n",
        "    'language': 5,\n",
        "    'release_date': 2022,\n",
        "    'height': 200.0,\n",
        "    'width': 150.0,\n",
        "    'illustrated': 0,\n",
        "    'thickness': 12.5\n",
        "}\n",
        "\n",
        "single_row_df = pd.DataFrame([single_row_data])\n",
        "\n",
        "y_pred_rf = model_rf.predict(single_row_df)\n",
        "y_pred_linear = model_linear.predict(single_row_df)\n",
        "\n",
        "print(f\"Random forest regression: {y_pred_rf[0]}\")\n",
        "print(f\"Linear regression: {y_pred_linear[0]}\")\n",
        "print(f\"Average: {(y_pred_rf[0] + y_pred_linear[0])/ 2}\")"
      ],
      "metadata": {
        "colab": {
          "base_uri": "https://localhost:8080/"
        },
        "id": "2Xcij7mfLmN1",
        "outputId": "325c2972-2c3a-4666-f515-104b35c0b673"
      },
      "execution_count": null,
      "outputs": [
        {
          "output_type": "stream",
          "name": "stdout",
          "text": [
            "Random forest regression: 4648.3\n",
            "Linear regression: 2030.7557223018662\n",
            "Average: 3339.527861150933\n"
          ]
        }
      ]
    },
    {
      "cell_type": "markdown",
      "source": [
        "#Classification models"
      ],
      "metadata": {
        "id": "EHZ52P3LP7jd"
      }
    },
    {
      "cell_type": "code",
      "source": [
        "X = df.drop(\"publishing_house\", axis=1)\n",
        "y = df[\"publishing_house\"]\n",
        "\n",
        "\n",
        "object_columns = X.select_dtypes(include=['object']).columns\n",
        "\n",
        "label_encoder = LabelEncoder()\n",
        "\n",
        "X[object_columns] = X[object_columns].apply(label_encoder.fit_transform)\n",
        "\n"
      ],
      "metadata": {
        "colab": {
          "base_uri": "https://localhost:8080/"
        },
        "id": "ODl5MepwQ95B",
        "outputId": "6837e968-416f-4e0b-a470-8f959ac4bb1d"
      },
      "execution_count": null,
      "outputs": [
        {
          "output_type": "execute_result",
          "data": {
            "text/plain": [
              "0              Росмэн\n",
              "1               Эксмо\n",
              "2               Эксмо\n",
              "3       РИПОЛ классик\n",
              "4               Эксмо\n",
              "            ...      \n",
              "2989              АСТ\n",
              "2990            Эксмо\n",
              "2991            Эксмо\n",
              "2992           Азбука\n",
              "2993              АСТ\n",
              "Name: publishing_house, Length: 2994, dtype: object"
            ]
          },
          "metadata": {},
          "execution_count": 39
        }
      ]
    },
    {
      "cell_type": "markdown",
      "source": [
        "Random forest classifier"
      ],
      "metadata": {
        "id": "J7EckoZfRfFT"
      }
    },
    {
      "cell_type": "code",
      "source": [
        "from sklearn.ensemble import RandomForestClassifier\n",
        "from sklearn.model_selection import train_test_split\n",
        "from sklearn.metrics import accuracy_score, classification_report\n",
        "\n",
        "X_train, X_test, y_train, y_test = train_test_split(X, y, test_size=0.2, random_state=42)\n",
        "\n",
        "model_rf_cls = RandomForestClassifier(random_state=42)\n",
        "model_rf_cls.fit(X_train, y_train)\n",
        "\n",
        "y_pred_rf_cls = model_rf_cls.predict(X_test)\n",
        "\n",
        "accuracy_rf = accuracy_score(y_test, y_pred_rf_cls)\n",
        "print(f\"Accuracy (Random Forest): {accuracy_rf}\")"
      ],
      "metadata": {
        "colab": {
          "base_uri": "https://localhost:8080/"
        },
        "id": "x1iZ9mUjP99l",
        "outputId": "ab8627f1-e9eb-4338-f9ea-cb528e4b0efc"
      },
      "execution_count": null,
      "outputs": [
        {
          "output_type": "stream",
          "name": "stdout",
          "text": [
            "Accuracy (Random Forest): 0.5742904841402338\n"
          ]
        }
      ]
    },
    {
      "cell_type": "markdown",
      "source": [
        "KNN classifier"
      ],
      "metadata": {
        "id": "EDLiGNrDRh7a"
      }
    },
    {
      "cell_type": "code",
      "source": [
        "from sklearn.neighbors import KNeighborsClassifier\n",
        "\n",
        "k_neighbors = 10\n",
        "model_knn = KNeighborsClassifier(n_neighbors=k_neighbors)\n",
        "model_knn.fit(X_train, y_train)\n",
        "\n",
        "y_pred_knn = model_knn.predict(X_test)\n",
        "\n",
        "accuracy_knn = accuracy_score(y_test, y_pred_knn)\n",
        "print(f\"Accuracy (KNN): {accuracy_knn}\")"
      ],
      "metadata": {
        "colab": {
          "base_uri": "https://localhost:8080/"
        },
        "id": "rnxtJFbARhRj",
        "outputId": "68e7909c-f8ae-4023-e163-0af89b29e9f4"
      },
      "execution_count": null,
      "outputs": [
        {
          "output_type": "stream",
          "name": "stdout",
          "text": [
            "Accuracy (KNN): 0.337228714524207\n"
          ]
        }
      ]
    },
    {
      "cell_type": "markdown",
      "source": [
        "Single row prediction"
      ],
      "metadata": {
        "id": "7QidpLIORv4L"
      }
    },
    {
      "cell_type": "code",
      "source": [
        "single_row_data = {\n",
        "    'title': 200,\n",
        "    'rating': 4.3,\n",
        "    'review_count': 120,\n",
        "    'price': X[\"price\"].mean(),\n",
        "    'binding': 2,\n",
        "    'number_of_pages': 250,\n",
        "    'paper_type': 1,\n",
        "    'language': 5,\n",
        "    'release_date': 2022,\n",
        "    'height': 200.0,\n",
        "    'width': 150.0,\n",
        "    'illustrated': 0,\n",
        "    'thickness': 12.5\n",
        "}\n",
        "\n",
        "single_row_df = pd.DataFrame([single_row_data])\n",
        "\n",
        "print(f\"Random forest classifier: {model_rf_cls.predict(single_row_df)}\")\n",
        "print(f\"KNN: {model_knn.predict(single_row_df)}\")"
      ],
      "metadata": {
        "colab": {
          "base_uri": "https://localhost:8080/"
        },
        "id": "MrmtiFt-Rzbh",
        "outputId": "b8c1e3f6-b063-45ab-fdd3-30b7195c05e3"
      },
      "execution_count": null,
      "outputs": [
        {
          "output_type": "stream",
          "name": "stdout",
          "text": [
            "Random forest classifier: ['Попурри']\n",
            "KNN: ['АСТ']\n"
          ]
        }
      ]
    }
  ]
}