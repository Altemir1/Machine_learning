{
  "nbformat": 4,
  "nbformat_minor": 0,
  "metadata": {
    "colab": {
      "provenance": []
    },
    "kernelspec": {
      "name": "python3",
      "display_name": "Python 3"
    },
    "language_info": {
      "name": "python"
    }
  },
  "cells": [
    {
      "cell_type": "code",
      "execution_count": null,
      "metadata": {
        "id": "IWXzAopbnwc9"
      },
      "outputs": [],
      "source": [
        "import numpy as np\n",
        "import pandas as pd\n",
        "from sklearn.model_selection import train_test_split\n",
        "import matplotlib.pyplot as plt\n",
        "\n",
        "def sigmoid(x):\n",
        "\n",
        "  return 1 / (1 + np.exp(-x))\n",
        "\n",
        "class LogisticRegression():\n",
        "\n",
        "  def __init__(self, lr=0.001, epochs=1000):\n",
        "    self.lr = lr\n",
        "    self.epochs = epochs\n",
        "    self.weights = None\n",
        "    self.bias = None\n",
        "\n",
        "  def fit(self, X, y):\n",
        "      n_samples, n_features = X.shape\n",
        "      self.weight = np.zeros(n_features)\n",
        "      self.bias = 0\n",
        "\n",
        "      for i in range(self.epochs):\n",
        "        linear_predictions = np.dot(X, self.weights) + self.bias\n",
        "        predicitons = sigmoid(linear_predictions)\n",
        "\n",
        "        dw = (1/n_samples) * np.dot(X.T, (predictions - 1))\n",
        "        db = (1/n_samples) * np.sum(predictions - y)\n",
        "\n",
        "        self.weights = self.weights - self.lr * dw\n",
        "        self.bias = self.bias - self.lr * db\n",
        "\n",
        "  def predict(self, X):\n",
        "        linear_predictions = np.dot(X, self.weights) + self.bias\n",
        "        predicitons = sigmoid(linear_predictions)\n",
        "        class_pred = [0 if y < 0.5 else 1 for y in y_pred]\n",
        "        return class_pred\n",
        "\n",
        "\n",
        "\n",
        "\n"
      ]
    },
    {
      "cell_type": "code",
      "source": [],
      "metadata": {
        "id": "zlKClJyJupUR"
      },
      "execution_count": null,
      "outputs": []
    }
  ]
}